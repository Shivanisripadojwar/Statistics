{
 "cells": [
  {
   "cell_type": "markdown",
   "id": "b054d985",
   "metadata": {},
   "source": [
    "# Normalization:\n",
    "- Normalization is a technique used to scale numeric data in a specific range, usually between 0 and 1.\n",
    "- It helps in bringing all features to the same scale and prevents some features from dominating others.\n",
    "- A common method is Min-Max scaling, where the minimum value is transformed to 0 and the maximum value to 1, with other values scaled proportionally in between.\n",
    "Example: \n",
    "1. Suppose you have a dataset of house prices ranging from $100,000 to $1,000,000. Normalization would transform these prices to a range between 0 and 1, making $100,000 equivalent to 0 and $1,000,000 equivalent to 1.\n",
    "2.Imagine you're analyzing data on customer satisfaction scores (ranging from 1 to 10) and product prices (ranging from $10 to $1000). Normalization would scale both features to a range between 0 and 1, allowing for fair comparison.\n",
    "\n"
   ]
  },
  {
   "cell_type": "code",
   "execution_count": 1,
   "id": "93d206b1",
   "metadata": {},
   "outputs": [],
   "source": [
    "# Importing Libraries:\n",
    "# We begin by importing the necessary libraries. In this code, we import load_wine from \n",
    "#sklearn.datasets to load the Wine dataset, \n",
    "# MinMaxScaler from sklearn.preprocessing to perform Min-Max scaling, \n",
    "# and pandas to work with data in DataFrame format.\n",
    "\n",
    "import pandas as pd\n",
    "from sklearn.preprocessing import MinMaxScaler\n",
    "from sklearn.datasets import load_wine\n"
   ]
  },
  {
   "cell_type": "code",
   "execution_count": 3,
   "id": "7da16c5c",
   "metadata": {},
   "outputs": [],
   "source": [
    "# Loading the Wine Dataset:\n",
    "# We load the Wine dataset using the load_wine() function from scikit-learn. \n",
    "# This dataset contains information about different attributes of wines.\n",
    "wine_data=load_wine()"
   ]
  },
  {
   "cell_type": "code",
   "execution_count": 4,
   "id": "1d504f6a",
   "metadata": {},
   "outputs": [],
   "source": [
    "# Creating a DataFrame:\n",
    "# We create a pandas DataFrame (wine_df) to store the features of the Wine dataset. \n",
    "# We use data attribute of the loaded dataset to access the feature data, \n",
    "# and feature_names attribute to set column names.\n",
    "wine_df=pd.DataFrame(data=wine_data.data,columns=wine_data.feature_names)"
   ]
  },
  {
   "cell_type": "code",
   "execution_count": 5,
   "id": "c9c7c094",
   "metadata": {},
   "outputs": [
    {
     "name": "stdout",
     "output_type": "stream",
     "text": [
      "original data    alcohol  malic_acid   ash  alcalinity_of_ash  magnesium  total_phenols  \\\n",
      "0    14.23        1.71  2.43               15.6      127.0           2.80   \n",
      "1    13.20        1.78  2.14               11.2      100.0           2.65   \n",
      "2    13.16        2.36  2.67               18.6      101.0           2.80   \n",
      "3    14.37        1.95  2.50               16.8      113.0           3.85   \n",
      "4    13.24        2.59  2.87               21.0      118.0           2.80   \n",
      "\n",
      "   flavanoids  nonflavanoid_phenols  proanthocyanins  color_intensity   hue  \\\n",
      "0        3.06                  0.28             2.29             5.64  1.04   \n",
      "1        2.76                  0.26             1.28             4.38  1.05   \n",
      "2        3.24                  0.30             2.81             5.68  1.03   \n",
      "3        3.49                  0.24             2.18             7.80  0.86   \n",
      "4        2.69                  0.39             1.82             4.32  1.04   \n",
      "\n",
      "   od280/od315_of_diluted_wines  proline  \n",
      "0                          3.92   1065.0  \n",
      "1                          3.40   1050.0  \n",
      "2                          3.17   1185.0  \n",
      "3                          3.45   1480.0  \n",
      "4                          2.93    735.0  \n"
     ]
    }
   ],
   "source": [
    "# Displaying the Original Dataset:\n",
    "# We print the first few rows of the original Wine dataset (wine_df) to see its structure and values.\n",
    "print(\"original data\",wine_df.head(5))"
   ]
  },
  {
   "cell_type": "code",
   "execution_count": 7,
   "id": "2e79774c",
   "metadata": {},
   "outputs": [],
   "source": [
    "updated_data=wine_df.columns[[1,2,3]]"
   ]
  },
  {
   "cell_type": "code",
   "execution_count": 8,
   "id": "8afe1ff1",
   "metadata": {},
   "outputs": [
    {
     "data": {
      "text/plain": [
       "Index(['malic_acid', 'ash', 'alcalinity_of_ash'], dtype='object')"
      ]
     },
     "execution_count": 8,
     "metadata": {},
     "output_type": "execute_result"
    }
   ],
   "source": [
    "updated_data"
   ]
  },
  {
   "cell_type": "code",
   "execution_count": 9,
   "id": "52f31721",
   "metadata": {},
   "outputs": [],
   "source": [
    "# Initializing the MinMaxScaler:\n",
    "# We create an instance of MinMaxScaler and assign it to the variable scaler. \n",
    "# This scaler will be used to perform Min-Max scaling on the dataset.\n",
    "scaler=MinMaxScaler()"
   ]
  },
  {
   "cell_type": "code",
   "execution_count": 10,
   "id": "3c3aa3f6",
   "metadata": {},
   "outputs": [],
   "source": [
    "# Normalizing the Dataset:\n",
    "# We apply Min-Max scaling to the original dataset using the fit_transform() method of the scaler. \n",
    "# This method both fits the scaler to the data and transforms the data simultaneously. \n",
    "# The normalized data is stored in the variable wine_normalized.\n",
    "wine_normalized=scaler.fit_transform(wine_df)"
   ]
  },
  {
   "cell_type": "code",
   "execution_count": 13,
   "id": "c8ff569c",
   "metadata": {},
   "outputs": [
    {
     "name": "stdout",
     "output_type": "stream",
     "text": [
      "[[0.84210526 0.1916996  0.57219251 ... 0.45528455 0.97069597 0.56134094]\n",
      " [0.57105263 0.2055336  0.4171123  ... 0.46341463 0.78021978 0.55064194]\n",
      " [0.56052632 0.3201581  0.70053476 ... 0.44715447 0.6959707  0.64693295]\n",
      " ...\n",
      " [0.58947368 0.69960474 0.48128342 ... 0.08943089 0.10622711 0.39728959]\n",
      " [0.56315789 0.36561265 0.54010695 ... 0.09756098 0.12820513 0.40085592]\n",
      " [0.81578947 0.66403162 0.73796791 ... 0.10569106 0.12087912 0.20114123]]\n"
     ]
    }
   ],
   "source": [
    "print(wine_normalized)"
   ]
  },
  {
   "cell_type": "code",
   "execution_count": 15,
   "id": "4dfd90c9",
   "metadata": {},
   "outputs": [],
   "source": [
    "# Converting Normalized Data to DataFrame:\n",
    "# We convert the normalized data (wine_normalized) back to a pandas DataFrame (wine_normalized_df) \n",
    "# so that we can easily view and work with the normalized dataset.\n",
    "wine_normalized_df = pd.DataFrame(data=wine_normalized, columns=wine_data.feature_names)\n"
   ]
  },
  {
   "cell_type": "code",
   "execution_count": 16,
   "id": "4659c465",
   "metadata": {},
   "outputs": [
    {
     "name": "stdout",
     "output_type": "stream",
     "text": [
      "Normalized data     alcohol  malic_acid       ash  alcalinity_of_ash  magnesium  \\\n",
      "0  0.842105    0.191700  0.572193           0.257732   0.619565   \n",
      "1  0.571053    0.205534  0.417112           0.030928   0.326087   \n",
      "2  0.560526    0.320158  0.700535           0.412371   0.336957   \n",
      "3  0.878947    0.239130  0.609626           0.319588   0.467391   \n",
      "4  0.581579    0.365613  0.807487           0.536082   0.521739   \n",
      "\n",
      "   total_phenols  flavanoids  nonflavanoid_phenols  proanthocyanins  \\\n",
      "0       0.627586    0.573840              0.283019         0.593060   \n",
      "1       0.575862    0.510549              0.245283         0.274448   \n",
      "2       0.627586    0.611814              0.320755         0.757098   \n",
      "3       0.989655    0.664557              0.207547         0.558360   \n",
      "4       0.627586    0.495781              0.490566         0.444795   \n",
      "\n",
      "   color_intensity       hue  od280/od315_of_diluted_wines   proline  \n",
      "0         0.372014  0.455285                      0.970696  0.561341  \n",
      "1         0.264505  0.463415                      0.780220  0.550642  \n",
      "2         0.375427  0.447154                      0.695971  0.646933  \n",
      "3         0.556314  0.308943                      0.798535  0.857347  \n",
      "4         0.259386  0.455285                      0.608059  0.325963  \n"
     ]
    }
   ],
   "source": [
    "# Displaying the Normalized Dataset:\n",
    "# Finally, we print the first few rows of the normalized Wine dataset (wine_normalized_df) \n",
    "# to see how the features have been scaled between 0 and 1.\n",
    "print(\"Normalized data\", wine_normalized_df.head(5))"
   ]
  },
  {
   "cell_type": "markdown",
   "id": "d1f8a611",
   "metadata": {},
   "source": [
    "# Standardization:\n",
    "- Standardization transforms data to have a mean of 0 and a standard deviation of 1.\n",
    "- It doesn't bound the values to a specific range, but it's useful when the features have different units or scales.\n",
    "- Standardized data has zero mean and unit variance, making it easier to compare different features.\n",
    "\n",
    "\n",
    "Example: \n",
    "1.Let's say you have two features in a dataset: height (in centimeters) and weight (in kilograms). Standardization would transform both features so that their mean becomes 0 and standard deviation becomes 1, making them directly comparable.\n",
    "2.Consider a dataset containing exam scores (ranging from 0 to 100) and study hours (ranging from 0 to 50). Standardization would make both features comparable by transforming them to have a mean of 0 and a standard deviation of 1, regardless of their original units.\n"
   ]
  },
  {
   "cell_type": "code",
   "execution_count": 19,
   "id": "6eb6d57f",
   "metadata": {},
   "outputs": [],
   "source": [
    "# Importing Libraries:\n",
    "# We import necessary libraries: load_wine to load the Wine dataset, StandardScaler \n",
    "# for standardization, and pandas for working with DataFrames.\n",
    "import pandas as pd\n",
    "from sklearn.preprocessing import StandardScaler\n",
    "from sklearn.datasets import load_wine"
   ]
  },
  {
   "cell_type": "code",
   "execution_count": 21,
   "id": "e6325a7a",
   "metadata": {},
   "outputs": [],
   "source": [
    "# Loading the Wine Dataset:\n",
    "# We load the Wine dataset using load_wine() from scikit-learn and create a DataFrame wine_df to store the feature data.\n",
    "wine_data1=load_wine()\n",
    "wine_df1=pd.DataFrame(data=wine_data1.data, columns=wine_data1.feature_names)\n"
   ]
  },
  {
   "cell_type": "code",
   "execution_count": 22,
   "id": "2f18205a",
   "metadata": {},
   "outputs": [
    {
     "data": {
      "text/html": [
       "<div>\n",
       "<style scoped>\n",
       "    .dataframe tbody tr th:only-of-type {\n",
       "        vertical-align: middle;\n",
       "    }\n",
       "\n",
       "    .dataframe tbody tr th {\n",
       "        vertical-align: top;\n",
       "    }\n",
       "\n",
       "    .dataframe thead th {\n",
       "        text-align: right;\n",
       "    }\n",
       "</style>\n",
       "<table border=\"1\" class=\"dataframe\">\n",
       "  <thead>\n",
       "    <tr style=\"text-align: right;\">\n",
       "      <th></th>\n",
       "      <th>alcohol</th>\n",
       "      <th>malic_acid</th>\n",
       "      <th>ash</th>\n",
       "      <th>alcalinity_of_ash</th>\n",
       "      <th>magnesium</th>\n",
       "      <th>total_phenols</th>\n",
       "      <th>flavanoids</th>\n",
       "      <th>nonflavanoid_phenols</th>\n",
       "      <th>proanthocyanins</th>\n",
       "      <th>color_intensity</th>\n",
       "      <th>hue</th>\n",
       "      <th>od280/od315_of_diluted_wines</th>\n",
       "      <th>proline</th>\n",
       "    </tr>\n",
       "  </thead>\n",
       "  <tbody>\n",
       "    <tr>\n",
       "      <th>0</th>\n",
       "      <td>14.23</td>\n",
       "      <td>1.71</td>\n",
       "      <td>2.43</td>\n",
       "      <td>15.6</td>\n",
       "      <td>127.0</td>\n",
       "      <td>2.80</td>\n",
       "      <td>3.06</td>\n",
       "      <td>0.28</td>\n",
       "      <td>2.29</td>\n",
       "      <td>5.64</td>\n",
       "      <td>1.04</td>\n",
       "      <td>3.92</td>\n",
       "      <td>1065.0</td>\n",
       "    </tr>\n",
       "    <tr>\n",
       "      <th>1</th>\n",
       "      <td>13.20</td>\n",
       "      <td>1.78</td>\n",
       "      <td>2.14</td>\n",
       "      <td>11.2</td>\n",
       "      <td>100.0</td>\n",
       "      <td>2.65</td>\n",
       "      <td>2.76</td>\n",
       "      <td>0.26</td>\n",
       "      <td>1.28</td>\n",
       "      <td>4.38</td>\n",
       "      <td>1.05</td>\n",
       "      <td>3.40</td>\n",
       "      <td>1050.0</td>\n",
       "    </tr>\n",
       "    <tr>\n",
       "      <th>2</th>\n",
       "      <td>13.16</td>\n",
       "      <td>2.36</td>\n",
       "      <td>2.67</td>\n",
       "      <td>18.6</td>\n",
       "      <td>101.0</td>\n",
       "      <td>2.80</td>\n",
       "      <td>3.24</td>\n",
       "      <td>0.30</td>\n",
       "      <td>2.81</td>\n",
       "      <td>5.68</td>\n",
       "      <td>1.03</td>\n",
       "      <td>3.17</td>\n",
       "      <td>1185.0</td>\n",
       "    </tr>\n",
       "    <tr>\n",
       "      <th>3</th>\n",
       "      <td>14.37</td>\n",
       "      <td>1.95</td>\n",
       "      <td>2.50</td>\n",
       "      <td>16.8</td>\n",
       "      <td>113.0</td>\n",
       "      <td>3.85</td>\n",
       "      <td>3.49</td>\n",
       "      <td>0.24</td>\n",
       "      <td>2.18</td>\n",
       "      <td>7.80</td>\n",
       "      <td>0.86</td>\n",
       "      <td>3.45</td>\n",
       "      <td>1480.0</td>\n",
       "    </tr>\n",
       "    <tr>\n",
       "      <th>4</th>\n",
       "      <td>13.24</td>\n",
       "      <td>2.59</td>\n",
       "      <td>2.87</td>\n",
       "      <td>21.0</td>\n",
       "      <td>118.0</td>\n",
       "      <td>2.80</td>\n",
       "      <td>2.69</td>\n",
       "      <td>0.39</td>\n",
       "      <td>1.82</td>\n",
       "      <td>4.32</td>\n",
       "      <td>1.04</td>\n",
       "      <td>2.93</td>\n",
       "      <td>735.0</td>\n",
       "    </tr>\n",
       "  </tbody>\n",
       "</table>\n",
       "</div>"
      ],
      "text/plain": [
       "   alcohol  malic_acid   ash  alcalinity_of_ash  magnesium  total_phenols  \\\n",
       "0    14.23        1.71  2.43               15.6      127.0           2.80   \n",
       "1    13.20        1.78  2.14               11.2      100.0           2.65   \n",
       "2    13.16        2.36  2.67               18.6      101.0           2.80   \n",
       "3    14.37        1.95  2.50               16.8      113.0           3.85   \n",
       "4    13.24        2.59  2.87               21.0      118.0           2.80   \n",
       "\n",
       "   flavanoids  nonflavanoid_phenols  proanthocyanins  color_intensity   hue  \\\n",
       "0        3.06                  0.28             2.29             5.64  1.04   \n",
       "1        2.76                  0.26             1.28             4.38  1.05   \n",
       "2        3.24                  0.30             2.81             5.68  1.03   \n",
       "3        3.49                  0.24             2.18             7.80  0.86   \n",
       "4        2.69                  0.39             1.82             4.32  1.04   \n",
       "\n",
       "   od280/od315_of_diluted_wines  proline  \n",
       "0                          3.92   1065.0  \n",
       "1                          3.40   1050.0  \n",
       "2                          3.17   1185.0  \n",
       "3                          3.45   1480.0  \n",
       "4                          2.93    735.0  "
      ]
     },
     "execution_count": 22,
     "metadata": {},
     "output_type": "execute_result"
    }
   ],
   "source": [
    "# Displaying the Original Dataset:\n",
    "# We print the first few rows of the original Wine dataset (wine_df) to understand its structure and values.\n",
    "wine_df1.head(5)"
   ]
  },
  {
   "cell_type": "code",
   "execution_count": 23,
   "id": "9dab45dc",
   "metadata": {},
   "outputs": [],
   "source": [
    "# Initializing StandardScaler:\n",
    "# We create an instance of StandardScaler and assign it to the variable scaler. \n",
    "# This scaler will be used to perform standardization on the dataset.\n",
    "scaler1=StandardScaler()\n"
   ]
  },
  {
   "cell_type": "code",
   "execution_count": 32,
   "id": "f3692acd",
   "metadata": {},
   "outputs": [
    {
     "name": "stdout",
     "output_type": "stream",
     "text": [
      "[[ 1.51861254 -0.5622498   0.23205254 ...  0.36217728  1.84791957\n",
      "   1.01300893]\n",
      " [ 0.24628963 -0.49941338 -0.82799632 ...  0.40605066  1.1134493\n",
      "   0.96524152]\n",
      " [ 0.19687903  0.02123125  1.10933436 ...  0.31830389  0.78858745\n",
      "   1.39514818]\n",
      " ...\n",
      " [ 0.33275817  1.74474449 -0.38935541 ... -1.61212515 -1.48544548\n",
      "   0.28057537]\n",
      " [ 0.20923168  0.22769377  0.01273209 ... -1.56825176 -1.40069891\n",
      "   0.29649784]\n",
      " [ 1.39508604  1.58316512  1.36520822 ... -1.52437837 -1.42894777\n",
      "  -0.59516041]]\n"
     ]
    }
   ],
   "source": [
    "# Standardizing the Dataset:\n",
    "# We standardize the original dataset using the fit_transform() method of the scaler. \n",
    "# This method fits the scaler to the data and transforms it simultaneously. \n",
    "# The standardized data is stored in the variable wine_standardized.\n",
    "wine_Standardized=scaler1.fit_transform(wine_df1)\n",
    "print(wine_Standardized)"
   ]
  },
  {
   "cell_type": "code",
   "execution_count": 28,
   "id": "c7178107",
   "metadata": {},
   "outputs": [],
   "source": [
    "# Converting Standardized Data to DataFrame:\n",
    "# We convert the standardized data (wine_standardized) back to a pandas \n",
    "# DataFrame (wine_standardized_df) for easy viewing and further analysis.\n",
    "wine_Standardized_df=pd.DataFrame(data=wine_Standardized,columns=wine_data1.feature_names)"
   ]
  },
  {
   "cell_type": "code",
   "execution_count": 30,
   "id": "08ded082",
   "metadata": {},
   "outputs": [
    {
     "name": "stdout",
     "output_type": "stream",
     "text": [
      "Satndardized Data       alcohol  malic_acid       ash  alcalinity_of_ash  magnesium  \\\n",
      "0    1.518613   -0.562250  0.232053          -1.169593   1.913905   \n",
      "1    0.246290   -0.499413 -0.827996          -2.490847   0.018145   \n",
      "2    0.196879    0.021231  1.109334          -0.268738   0.088358   \n",
      "3    1.691550   -0.346811  0.487926          -0.809251   0.930918   \n",
      "4    0.295700    0.227694  1.840403           0.451946   1.281985   \n",
      "..        ...         ...       ...                ...        ...   \n",
      "173  0.876275    2.974543  0.305159           0.301803  -0.332922   \n",
      "174  0.493343    1.412609  0.414820           1.052516   0.158572   \n",
      "175  0.332758    1.744744 -0.389355           0.151661   1.422412   \n",
      "176  0.209232    0.227694  0.012732           0.151661   1.422412   \n",
      "177  1.395086    1.583165  1.365208           1.502943  -0.262708   \n",
      "\n",
      "     total_phenols  flavanoids  nonflavanoid_phenols  proanthocyanins  \\\n",
      "0         0.808997    1.034819             -0.659563         1.224884   \n",
      "1         0.568648    0.733629             -0.820719        -0.544721   \n",
      "2         0.808997    1.215533             -0.498407         2.135968   \n",
      "3         2.491446    1.466525             -0.981875         1.032155   \n",
      "4         0.808997    0.663351              0.226796         0.401404   \n",
      "..             ...         ...                   ...              ...   \n",
      "173      -0.985614   -1.424900              1.274310        -0.930179   \n",
      "174      -0.793334   -1.284344              0.549108        -0.316950   \n",
      "175      -1.129824   -1.344582              0.549108        -0.422075   \n",
      "176      -1.033684   -1.354622              1.354888        -0.229346   \n",
      "177      -0.392751   -1.274305              1.596623        -0.422075   \n",
      "\n",
      "     color_intensity       hue  od280/od315_of_diluted_wines   proline  \n",
      "0           0.251717  0.362177                      1.847920  1.013009  \n",
      "1          -0.293321  0.406051                      1.113449  0.965242  \n",
      "2           0.269020  0.318304                      0.788587  1.395148  \n",
      "3           1.186068 -0.427544                      1.184071  2.334574  \n",
      "4          -0.319276  0.362177                      0.449601 -0.037874  \n",
      "..               ...       ...                           ...       ...  \n",
      "173         1.142811 -1.392758                     -1.231206 -0.021952  \n",
      "174         0.969783 -1.129518                     -1.485445  0.009893  \n",
      "175         2.224236 -1.612125                     -1.485445  0.280575  \n",
      "176         1.834923 -1.568252                     -1.400699  0.296498  \n",
      "177         1.791666 -1.524378                     -1.428948 -0.595160  \n",
      "\n",
      "[178 rows x 13 columns]\n"
     ]
    }
   ],
   "source": [
    "# Displaying the Standardized Dataset:\n",
    "# Finally, we print the first few rows of the standardized Wine dataset (wine_standardized_df) \n",
    "# to observe how the features have been standardized with a mean of 0 and a standard deviation of 1.\n",
    "print(\"Satndardized Data\",wine_Standardized_df)"
   ]
  },
  {
   "cell_type": "code",
   "execution_count": 31,
   "id": "c9b91b59",
   "metadata": {},
   "outputs": [
    {
     "data": {
      "text/html": [
       "<div>\n",
       "<style scoped>\n",
       "    .dataframe tbody tr th:only-of-type {\n",
       "        vertical-align: middle;\n",
       "    }\n",
       "\n",
       "    .dataframe tbody tr th {\n",
       "        vertical-align: top;\n",
       "    }\n",
       "\n",
       "    .dataframe thead th {\n",
       "        text-align: right;\n",
       "    }\n",
       "</style>\n",
       "<table border=\"1\" class=\"dataframe\">\n",
       "  <thead>\n",
       "    <tr style=\"text-align: right;\">\n",
       "      <th></th>\n",
       "      <th>alcohol</th>\n",
       "      <th>malic_acid</th>\n",
       "      <th>ash</th>\n",
       "      <th>alcalinity_of_ash</th>\n",
       "      <th>magnesium</th>\n",
       "      <th>total_phenols</th>\n",
       "      <th>flavanoids</th>\n",
       "      <th>nonflavanoid_phenols</th>\n",
       "      <th>proanthocyanins</th>\n",
       "      <th>color_intensity</th>\n",
       "      <th>hue</th>\n",
       "      <th>od280/od315_of_diluted_wines</th>\n",
       "      <th>proline</th>\n",
       "    </tr>\n",
       "  </thead>\n",
       "  <tbody>\n",
       "    <tr>\n",
       "      <th>0</th>\n",
       "      <td>1.518613</td>\n",
       "      <td>-0.562250</td>\n",
       "      <td>0.232053</td>\n",
       "      <td>-1.169593</td>\n",
       "      <td>1.913905</td>\n",
       "      <td>0.808997</td>\n",
       "      <td>1.034819</td>\n",
       "      <td>-0.659563</td>\n",
       "      <td>1.224884</td>\n",
       "      <td>0.251717</td>\n",
       "      <td>0.362177</td>\n",
       "      <td>1.847920</td>\n",
       "      <td>1.013009</td>\n",
       "    </tr>\n",
       "    <tr>\n",
       "      <th>1</th>\n",
       "      <td>0.246290</td>\n",
       "      <td>-0.499413</td>\n",
       "      <td>-0.827996</td>\n",
       "      <td>-2.490847</td>\n",
       "      <td>0.018145</td>\n",
       "      <td>0.568648</td>\n",
       "      <td>0.733629</td>\n",
       "      <td>-0.820719</td>\n",
       "      <td>-0.544721</td>\n",
       "      <td>-0.293321</td>\n",
       "      <td>0.406051</td>\n",
       "      <td>1.113449</td>\n",
       "      <td>0.965242</td>\n",
       "    </tr>\n",
       "    <tr>\n",
       "      <th>2</th>\n",
       "      <td>0.196879</td>\n",
       "      <td>0.021231</td>\n",
       "      <td>1.109334</td>\n",
       "      <td>-0.268738</td>\n",
       "      <td>0.088358</td>\n",
       "      <td>0.808997</td>\n",
       "      <td>1.215533</td>\n",
       "      <td>-0.498407</td>\n",
       "      <td>2.135968</td>\n",
       "      <td>0.269020</td>\n",
       "      <td>0.318304</td>\n",
       "      <td>0.788587</td>\n",
       "      <td>1.395148</td>\n",
       "    </tr>\n",
       "    <tr>\n",
       "      <th>3</th>\n",
       "      <td>1.691550</td>\n",
       "      <td>-0.346811</td>\n",
       "      <td>0.487926</td>\n",
       "      <td>-0.809251</td>\n",
       "      <td>0.930918</td>\n",
       "      <td>2.491446</td>\n",
       "      <td>1.466525</td>\n",
       "      <td>-0.981875</td>\n",
       "      <td>1.032155</td>\n",
       "      <td>1.186068</td>\n",
       "      <td>-0.427544</td>\n",
       "      <td>1.184071</td>\n",
       "      <td>2.334574</td>\n",
       "    </tr>\n",
       "    <tr>\n",
       "      <th>4</th>\n",
       "      <td>0.295700</td>\n",
       "      <td>0.227694</td>\n",
       "      <td>1.840403</td>\n",
       "      <td>0.451946</td>\n",
       "      <td>1.281985</td>\n",
       "      <td>0.808997</td>\n",
       "      <td>0.663351</td>\n",
       "      <td>0.226796</td>\n",
       "      <td>0.401404</td>\n",
       "      <td>-0.319276</td>\n",
       "      <td>0.362177</td>\n",
       "      <td>0.449601</td>\n",
       "      <td>-0.037874</td>\n",
       "    </tr>\n",
       "  </tbody>\n",
       "</table>\n",
       "</div>"
      ],
      "text/plain": [
       "    alcohol  malic_acid       ash  alcalinity_of_ash  magnesium  \\\n",
       "0  1.518613   -0.562250  0.232053          -1.169593   1.913905   \n",
       "1  0.246290   -0.499413 -0.827996          -2.490847   0.018145   \n",
       "2  0.196879    0.021231  1.109334          -0.268738   0.088358   \n",
       "3  1.691550   -0.346811  0.487926          -0.809251   0.930918   \n",
       "4  0.295700    0.227694  1.840403           0.451946   1.281985   \n",
       "\n",
       "   total_phenols  flavanoids  nonflavanoid_phenols  proanthocyanins  \\\n",
       "0       0.808997    1.034819             -0.659563         1.224884   \n",
       "1       0.568648    0.733629             -0.820719        -0.544721   \n",
       "2       0.808997    1.215533             -0.498407         2.135968   \n",
       "3       2.491446    1.466525             -0.981875         1.032155   \n",
       "4       0.808997    0.663351              0.226796         0.401404   \n",
       "\n",
       "   color_intensity       hue  od280/od315_of_diluted_wines   proline  \n",
       "0         0.251717  0.362177                      1.847920  1.013009  \n",
       "1        -0.293321  0.406051                      1.113449  0.965242  \n",
       "2         0.269020  0.318304                      0.788587  1.395148  \n",
       "3         1.186068 -0.427544                      1.184071  2.334574  \n",
       "4        -0.319276  0.362177                      0.449601 -0.037874  "
      ]
     },
     "execution_count": 31,
     "metadata": {},
     "output_type": "execute_result"
    }
   ],
   "source": [
    "wine_Standardized_df.head(5)"
   ]
  },
  {
   "cell_type": "code",
   "execution_count": null,
   "id": "90078e1b",
   "metadata": {},
   "outputs": [],
   "source": []
  }
 ],
 "metadata": {
  "kernelspec": {
   "display_name": "Python 3 (ipykernel)",
   "language": "python",
   "name": "python3"
  },
  "language_info": {
   "codemirror_mode": {
    "name": "ipython",
    "version": 3
   },
   "file_extension": ".py",
   "mimetype": "text/x-python",
   "name": "python",
   "nbconvert_exporter": "python",
   "pygments_lexer": "ipython3",
   "version": "3.11.5"
  }
 },
 "nbformat": 4,
 "nbformat_minor": 5
}
